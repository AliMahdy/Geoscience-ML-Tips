{
 "cells": [
  {
   "cell_type": "code",
   "execution_count": 1,
   "id": "716ec465",
   "metadata": {},
   "outputs": [],
   "source": [
    "import numpy as np\n",
    "import pandas as pd\n",
    "from sklearn.model_selection import train_test_split\n",
    "from sklearn.svm import SVC\n",
    "from sklearn.metrics import accuracy_score, classification_report,confusion_matrix\n",
    "from sklearn.preprocessing import StandardScaler\n",
    "import matplotlib.pyplot as plt\n",
    "import seaborn as sns"
   ]
  },
  {
   "cell_type": "code",
   "execution_count": 2,
   "id": "9fac0915",
   "metadata": {},
   "outputs": [],
   "source": [
    "# --- Synthetic Data  ---\n",
    "generate_synthetic_facies_data_for_comparison=pd.read_csv('synthetic_permeability__data_1000.csv')"
   ]
  },
  {
   "cell_type": "code",
   "execution_count": 25,
   "id": "390e761a",
   "metadata": {},
   "outputs": [],
   "source": [
    "# Generate the data and save to CSV\n",
    "df = generate_synthetic_facies_data_for_comparison()\n",
    "df.to_csv('synthetic_permeability__data_1000.csv', index=False)"
   ]
  },
  {
   "cell_type": "code",
   "execution_count": 26,
   "id": "0d704893",
   "metadata": {},
   "outputs": [
    {
     "name": "stdout",
     "output_type": "stream",
     "text": [
      "--- Original Synthetic Well Log Data with Facies (First 5 rows) ---\n",
      "       Depth_m      GR_API  Resistivity_Ohm.m  Porosity_v/v  Facies\n",
      "0  1000.000000   79.934283           0.908552      0.103704       0\n",
      "1  1000.500501   67.234714           1.687438      0.108509       0\n",
      "2  1001.001001   82.953771           0.677018      0.104446       0\n",
      "3  1001.501502  100.460597           0.600404      0.125577       0\n",
      "4  1002.002002   65.316933           0.758628      0.080954       0\n",
      "\n",
      "--- Facies Distribution ---\n",
      "Facies\n",
      "0    400\n",
      "1    300\n",
      "2    300\n",
      "Name: count, dtype: int64\n"
     ]
    }
   ],
   "source": [
    "# Generate the data\n",
    "synthetic_facies_data = generate_synthetic_facies_data_for_comparison()\n",
    "print(\"--- Original Synthetic Well Log Data with Facies (First 5 rows) ---\")\n",
    "print(synthetic_facies_data.head())\n",
    "print(\"\\n--- Facies Distribution ---\")\n",
    "print(synthetic_facies_data[\"Facies\"].value_counts())"
   ]
  },
  {
   "cell_type": "code",
   "execution_count": 27,
   "id": "7f0d841e",
   "metadata": {},
   "outputs": [
    {
     "name": "stdout",
     "output_type": "stream",
     "text": [
      "\n",
      "--- Rule-Based (Cutoff) Classification ---\n",
      "Accuracy (Rule-Based Cutoff): 0.83\n",
      "Classification Report (Rule-Based Cutoff):\n",
      "              precision    recall  f1-score   support\n",
      "\n",
      "       Shale       0.91      0.68      0.78       400\n",
      "   Sandstone       0.96      0.99      0.97       300\n",
      "   Carbonate       0.66      0.87      0.75       300\n",
      "\n",
      "    accuracy                           0.83      1000\n",
      "   macro avg       0.84      0.85      0.83      1000\n",
      "weighted avg       0.85      0.83      0.83      1000\n",
      "\n"
     ]
    }
   ],
   "source": [
    "# --- Rule-Based (Cutoff) Classification ---\n",
    "print(\"\\n--- Rule-Based (Cutoff) Classification ---\")\n",
    "\n",
    "# Define simple cutoffs (example: GR < 50 for Sand/Carbonate, GR >= 50 for Shale)\n",
    "# This is a very simplified rule for demonstration.\n",
    "predicted_facies_cutoff = np.zeros(len(synthetic_facies_data), dtype=int)\n",
    "predicted_facies_cutoff[synthetic_facies_data[\"GR_API\"] < 50] = 1  # Assume Sand/Carbonate\n",
    "\n",
    "# For a more complex rule, we'll distinguish between all three facies\n",
    "# Rule: \n",
    "# If GR > 60 -> Shale (0)\n",
    "# Else if GR < 60 and Porosity > 0.18 -> Sandstone (1)\n",
    "# Else -> Carbonate (2)\n",
    "predicted_facies_cutoff_refined = np.zeros(len(synthetic_facies_data), dtype=int)  # Default to Shale\n",
    "\n",
    "# Apply refined rules\n",
    "sandstone_condition = (\n",
    "    (synthetic_facies_data[\"GR_API\"] < 60) & \n",
    "    (synthetic_facies_data[\"Porosity_v/v\"] > 0.18)\n",
    ")\n",
    "\n",
    "carbonate_condition = (\n",
    "    (synthetic_facies_data[\"GR_API\"] < 60) & \n",
    "    (synthetic_facies_data[\"Porosity_v/v\"] <= 0.18)\n",
    ")\n",
    "\n",
    "predicted_facies_cutoff_refined[sandstone_condition] = 1  # Sandstone\n",
    "predicted_facies_cutoff_refined[carbonate_condition] = 2  # Carbonate\n",
    "\n",
    "# Calculate accuracy\n",
    "accuracy_cutoff = accuracy_score(synthetic_facies_data[\"Facies\"],\n",
    "                                predicted_facies_cutoff_refined)\n",
    "\n",
    "print(f\"Accuracy (Rule-Based Cutoff): {accuracy_cutoff:.2f}\")\n",
    "print(\"Classification Report (Rule-Based Cutoff):\")\n",
    "print(classification_report(synthetic_facies_data[\"Facies\"],\n",
    "                          predicted_facies_cutoff_refined, \n",
    "                          target_names=[\"Shale\", \"Sandstone\", \"Carbonate\"]))"
   ]
  },
  {
   "cell_type": "code",
   "execution_count": 28,
   "id": "2ca00928",
   "metadata": {},
   "outputs": [
    {
     "name": "stdout",
     "output_type": "stream",
     "text": [
      "\n",
      "--- Machine Learning (SVM) Classification ---\n"
     ]
    }
   ],
   "source": [
    "# --- Machine Learning (SVM) Classification ---\n",
    "print(\"\\n--- Machine Learning (SVM) Classification ---\")\n",
    "# Prepare data for ML\n",
    "features = [\"GR_API\", \"Resistivity_Ohm.m\", \"Porosity_v/v\"]\n",
    "X = synthetic_facies_data[features]\n",
    "y = synthetic_facies_data[\"Facies\"]"
   ]
  },
  {
   "cell_type": "code",
   "execution_count": 29,
   "id": "0fb74c0f",
   "metadata": {},
   "outputs": [],
   "source": [
    "# Scale features (important for SVM)\n",
    "scaler = StandardScaler()\n",
    "X_scaled = scaler.fit_transform(X)\n",
    "X_scaled_df = pd.DataFrame(X_scaled, columns=features)\n",
    "# Split data into training and testing sets\n",
    "X_train, X_test, y_train, y_test = train_test_split(X_scaled_df, y, test_size=0.25,\n",
    "random_state=42, stratify=y)"
   ]
  },
  {
   "cell_type": "code",
   "execution_count": 45,
   "id": "37084c7a",
   "metadata": {},
   "outputs": [],
   "source": [
    "# Initialize and train a Support Vector Classifier (SVC)\n",
    "model_svm = SVC(kernel='rbf', random_state=42) # RBF kernel for non-linear boundaries\n",
    "model_svm.fit(X_train, y_train)\n",
    "# Make predictions on the test set\n",
    "y_pred_svm = model_svm.predict(X_test)\n",
    "#'sigmoid', 'poly', 'rbf', 'precomputed', 'linear' # different Kernel methods"
   ]
  },
  {
   "cell_type": "code",
   "execution_count": 46,
   "id": "c7cc3385",
   "metadata": {},
   "outputs": [
    {
     "name": "stdout",
     "output_type": "stream",
     "text": [
      "Accuracy (SVM): 1.00\n",
      "Classification Report (SVM):\n",
      "              precision    recall  f1-score   support\n",
      "\n",
      "       Shale       1.00      1.00      1.00       100\n",
      "   Sandstone       1.00      1.00      1.00        75\n",
      "   Carbonate       1.00      1.00      1.00        75\n",
      "\n",
      "    accuracy                           1.00       250\n",
      "   macro avg       1.00      1.00      1.00       250\n",
      "weighted avg       1.00      1.00      1.00       250\n",
      "\n"
     ]
    }
   ],
   "source": [
    "# Evaluate the model\n",
    "accuracy_svm = accuracy_score(y_test, y_pred_svm)\n",
    "print(f\"Accuracy (SVM): {accuracy_svm:.2f}\")\n",
    "print(\"Classification Report (SVM):\")\n",
    "print(classification_report(y_test, y_pred_svm, target_names=[\"Shale\",\n",
    "\"Sandstone\", \"Carbonate\"]))"
   ]
  },
  {
   "cell_type": "code",
   "execution_count": 47,
   "id": "96fc1b09",
   "metadata": {},
   "outputs": [
    {
     "name": "stdout",
     "output_type": "stream",
     "text": [
      "nSaved facies classification comparison plot to facies_classification_comparison.png\n"
     ]
    },
    {
     "data": {
      "image/png": "[encoded data removed]",
      "text/plain": [
       "<Figure size 1200x500 with 4 Axes>"
      ]
     },
     "metadata": {},
     "output_type": "display_data"
    }
   ],
   "source": [
    "# --- Visualization of Confusion Matrices ---\n",
    "fig, axes = plt.subplots(1, 2, figsize=(12, 5))\n",
    "# Confusion Matrix for Rule-Based\n",
    "cm_cutoff = confusion_matrix(synthetic_facies_data[\"Facies\"],\n",
    "predicted_facies_cutoff_refined)\n",
    "sns.heatmap(cm_cutoff, annot=True, fmt=\"d\", cmap=\"Blues\", ax=axes[0],\n",
    "xticklabels=[\"Shale\", \"Sandstone\", \"Carbonate\"],\n",
    "yticklabels=[\"Shale\", \"Sandstone\", \"Carbonate\"])\n",
    "axes[0].set_title(\"Confusion Matrix: Rule-Based Cutoff\")\n",
    "axes[0].set_xlabel(\"Predicted Facies\")\n",
    "axes[0].set_ylabel(\"True Facies\")\n",
    "# Confusion Matrix for SVM\n",
    "cm_svm = confusion_matrix(y_test, y_pred_svm)\n",
    "sns.heatmap(cm_svm, annot=True, fmt=\"d\", cmap=\"Greens\", ax=axes[1],\n",
    "xticklabels=[\"Shale\", \"Sandstone\", \"Carbonate\"],\n",
    "yticklabels=[\"Shale\", \"Sandstone\", \"Carbonate\"])\n",
    "axes[1].set_title(\"Confusion Matrix: SVM\")\n",
    "axes[1].set_xlabel(\"Predicted Facies\")\n",
    "axes[1].set_ylabel(\"True Facies\")\n",
    "plt.tight_layout()\n",
    "# plt.show()\n",
    "plt.savefig(\"facies_classification_comparison.png\")\n",
    "print(\"nSaved facies classification comparison plot to facies_classification_comparison.png\")"
   ]
  },
  {
   "cell_type": "code",
   "execution_count": null,
   "id": "0e767159",
   "metadata": {},
   "outputs": [],
   "source": []
  }
 ],
 "metadata": {
  "kernelspec": {
   "display_name": "GravEnv",
   "language": "python",
   "name": "gravenv"
  },
  "language_info": {
   "codemirror_mode": {
    "name": "ipython",
    "version": 3
   },
   "file_extension": ".py",
   "mimetype": "text/x-python",
   "name": "python",
   "nbconvert_exporter": "python",
   "pygments_lexer": "ipython3",
   "version": "3.9.12"
  }
 },
 "nbformat": 4,
 "nbformat_minor": 5
}
